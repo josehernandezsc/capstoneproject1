{
    "nbformat_minor": 1, 
    "cells": [
        {
            "source": "# Data Science Cities\n\n### Introduction: Uncovering the data behind the cities\n\nThe most part of us come to a point when we need to make the next step, Data Science talking, in deciding to go for that Graduate diploma, and we pass several weeks, maybe months, trying to figure out which universities around the world to attend, knowing that we will live the next one or two years at least in that city. After narring down our options to four or five universities, we need to take into consideration, not only the cost of living, but the similarity between where we live and where we will be living for the next two years.\n\nIn this Data Science project I will try to board that problem: **Given the city where I live (Lima, Per\u00fa), which of these other four cities, where I have narrowed down my top university options, should I focus and invest the most of my effort to be part of.** For this, I will be considering three top Master of Science in Data Science programs:\n\n- The University of Edinburgh\n- University of Toronto\n- ETH Zurich\n\nThese three universities have tuition fees per year around USD 30,000 (except for ETH Zurich which is around USD 3,000) for non-EU citizens. Although this, and Master's duration, may be important factors to consider, we will focus only in the city election by finding their similarities by their venues categories. \n\n*It is important to notice that these four cities have a similar average temperature across the year (from 0\u00baC to 19\u00baC) and an average precipitation of 80 mm (Zurich reaching 120 mm per year) so we will ignore those weather factors.*\n\n---\n\n### Data Description: Where to start?\n\nWe identify two main types of data sources:\n\n1. Cities' boroughs and/or neighbourhoods\n1. Venues categories around each city main neighbourhoods\n\n#### For the first type we will be obtaining information from postal codes of each city.\n\n### Edinburgh\nThe data needed is in a table in the following wikipedia site: https://en.wikipedia.org/wiki/EH_postcode_area\nI will take only the central Edinburgh postal codes, which range from EH1 to EH17, having into consideration that The University of Edinburgh is in the EH8 postal code location.\nTable columns are: Postcode district and post town.\n\n### Toronto\nThe data needed is in a table in the following wikipedia site: https://en.wikipedia.org/wiki/List_of_postal_codes_of_Canada:_M \n\nTo filter the nearest boroughs and neighbourhoods I will map the boroughs using the Folium library and choose the four boroughs nearest to Scanborough, which is the location of the University of Toronto.\nTable columns are: Postcode, Borough, and Neighbourhood\n\n### Zurich\nThe data needed is in a table in the following site: http://www.geonames.org/postal-codes/CH/ZH/zurich.html\nAfter some research I found that the central Zurich area, where ETH Zurich is located, have postal codes that start with 80 so will be focusing only on those ones.\nTable columns are: Place, Code, Country, Admin1, Admin2, Admin3. *The last three columns represent the district and region*\n\n### Lima\nThe data needed is in a .csv file with the postal codes from the districts that sorround the area where I live and mostly commute in the week.\nTable columns are: Postal code, District, and Neighbourhood.\n\n#### For the second type of data needed, I will be obtaining venues' categories from Foursquare\n\n**Foursquare** is one of the biggest hubs for obtaining venues information from all over the world, not only limited to their category or location but users can review each venue and give each of them a punctuation.\n\nI will use the Foursquare API to access each venue surrounding each postal code district or neighbourhood around 700 meters and with a limit of 100 venues per location. This data is then retrieved in a JSON format, where I will append it to each city districts and neighbourhoods dataframes.\nI will be using the explore function from the venues category when calling the API. By this I can obtain the following data: venue name, vanue category and venue latitude and longitude.\n\nHere is an example of the JSON dictionary that is retrieved:\n\n```\n{\n  \"meta\": {\n    \"code\": 200,\n    \"requestId\": \"59a45921351e3d43b07028b5\"\n  },\n  \"response\": {\n    \"venue\": {\n      \"id\": \"412d2800f964a520df0c1fe3\",\n      \"name\": \"Central Park\",\n      \"contact\": {\n        \"phone\": \"2123106600\",\n        \"formattedPhone\": \"(212) 310-6600\",\n        \"twitter\": \"centralparknyc\",\n        \"instagram\": \"centralparknyc\",\n        \"facebook\": \"37965424481\",\n        \"facebookUsername\": \"centralparknyc\",\n        \"facebookName\": \"Central Park\"\n      },\n      \"location\": {\n        \"address\": \"59th St to 110th St\",\n        \"crossStreet\": \"5th Ave to Central Park West\",\n        \"lat\": 40.78408342593807,\n        \"lng\": -73.96485328674316,\n        \"postalCode\": \"10028\",\n        \"cc\": \"US\",\n        \"city\": \"New York\",\n        \"state\": \"NY\",\n        \"country\": \"United States\",\n        \"formattedAddress\": [\n          \"59th St to 110th St (5th Ave to Central Park West)\",\n          \"New York, NY 10028\",\n          \"United States\"\n        ]\n      },\n      \"canonicalUrl\": \"https://foursquare.com/v/central-park/412d2800f964a520df0c1fe3\",\n      \"categories\": [\n        {\n          \"id\": \"4bf58dd8d48988d163941735\",\n          \"name\": \"Park\",\n          \"pluralName\": \"Parks\",\n          \"shortName\": \"Park\",\n          \"icon\": {\n            \"prefix\": \"https://ss3.4sqi.net/img/categories_v2/parks_outdoors/park_\",\n            \"suffix\": \".png\"\n          },\n          \"primary\": true\n        }\n```\nI access the `response` item and then the `venue`item to retrieve data such as the venue name. I can enter inside that item the `location` item to retrieve the latitude and longitude. Finally by accessing the `categories` item I can retrieve the venue category.\n\n***\n\n*For the cost of living we will obtain this specific fact for each of the three cities from www.numbeo.com.*", 
            "cell_type": "markdown", 
            "metadata": {
                "collapsed": true
            }
        }, 
        {
            "source": "", 
            "cell_type": "code", 
            "metadata": {}, 
            "outputs": [], 
            "execution_count": null
        }
    ], 
    "metadata": {
        "kernelspec": {
            "display_name": "Python 3.5", 
            "name": "python3", 
            "language": "python"
        }, 
        "language_info": {
            "mimetype": "text/x-python", 
            "nbconvert_exporter": "python", 
            "version": "3.5.5", 
            "name": "python", 
            "pygments_lexer": "ipython3", 
            "file_extension": ".py", 
            "codemirror_mode": {
                "version": 3, 
                "name": "ipython"
            }
        }
    }, 
    "nbformat": 4
}